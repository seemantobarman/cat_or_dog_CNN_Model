{
  "nbformat": 4,
  "nbformat_minor": 0,
  "metadata": {
    "colab": {
      "name": "cat_or_dog_CNN_model.ipynb",
      "provenance": [],
      "collapsed_sections": [],
      "authorship_tag": "ABX9TyM7zul8HjU9iYJJa2wEy94I",
      "include_colab_link": true
    },
    "kernelspec": {
      "name": "python3",
      "display_name": "Python 3"
    },
    "accelerator": "TPU"
  },
  "cells": [
    {
      "cell_type": "markdown",
      "metadata": {
        "id": "view-in-github",
        "colab_type": "text"
      },
      "source": [
        "<a href=\"https://colab.research.google.com/github/seemantobarman/cat_or_dog_CNN_Model/blob/master/cat_or_dog_CNN_model.ipynb\" target=\"_parent\"><img src=\"https://colab.research.google.com/assets/colab-badge.svg\" alt=\"Open In Colab\"/></a>"
      ]
    },
    {
      "cell_type": "code",
      "metadata": {
        "id": "BBsqKcNtYhu4",
        "colab_type": "code",
        "colab": {}
      },
      "source": [
        "from google.colab import drive\n",
        "drive.mount('/content/drive')"
      ],
      "execution_count": 0,
      "outputs": []
    },
    {
      "cell_type": "code",
      "metadata": {
        "id": "9HSgW6RWWTwF",
        "colab_type": "code",
        "colab": {}
      },
      "source": [
        "!mkdir dataset"
      ],
      "execution_count": 0,
      "outputs": []
    },
    {
      "cell_type": "code",
      "metadata": {
        "id": "suxoI0HxWcYT",
        "colab_type": "code",
        "colab": {}
      },
      "source": [
        "!cp -R /content/drive/My\\ Drive/Colab\\ Notebooks/Cat\\ or\\ Dog/dataset/single_prediction /content/dataset"
      ],
      "execution_count": 0,
      "outputs": []
    },
    {
      "cell_type": "code",
      "metadata": {
        "id": "61nclAk6XMyD",
        "colab_type": "code",
        "colab": {}
      },
      "source": [
        "!cp -R /content/drive/My\\ Drive/Colab\\ Notebooks/Cat\\ or\\ Dog/dataset/test_set /content/dataset"
      ],
      "execution_count": 0,
      "outputs": []
    },
    {
      "cell_type": "code",
      "metadata": {
        "id": "rQL1ZzJRZkLo",
        "colab_type": "code",
        "colab": {}
      },
      "source": [
        "!cp -R /content/drive/My\\ Drive/Colab\\ Notebooks/Cat\\ or\\ Dog/dataset/training_set /content/dataset"
      ],
      "execution_count": 0,
      "outputs": []
    },
    {
      "cell_type": "code",
      "metadata": {
        "id": "LIkudPPxhr_P",
        "colab_type": "code",
        "outputId": "8d40d47d-26ff-48a2-aaef-48611f48af70",
        "colab": {
          "base_uri": "https://localhost:8080/",
          "height": 34
        }
      },
      "source": [
        "#Importing all the packages and libraries\n",
        "\n",
        "from keras.models import Sequential\n",
        "from keras.layers import Dense\n",
        "from keras.layers import Convolution2D\n",
        "from keras.layers import MaxPooling2D\n",
        "from keras.layers import Flatten"
      ],
      "execution_count": 0,
      "outputs": [
        {
          "output_type": "stream",
          "text": [
            "Using TensorFlow backend.\n"
          ],
          "name": "stderr"
        }
      ]
    },
    {
      "cell_type": "code",
      "metadata": {
        "id": "nPc10YCfhyJk",
        "colab_type": "code",
        "colab": {}
      },
      "source": [
        "#Initializing the CNN\n",
        "\n",
        "classifier = Sequential()"
      ],
      "execution_count": 0,
      "outputs": []
    },
    {
      "cell_type": "code",
      "metadata": {
        "id": "KL1ZnA8nh1Z8",
        "colab_type": "code",
        "outputId": "b2b031ed-faf7-4c52-d9a6-f1cf2e290994",
        "colab": {
          "base_uri": "https://localhost:8080/",
          "height": 71
        }
      },
      "source": [
        "#Convolution layer 1\n",
        "\n",
        "classifier.add(Convolution2D(32,3,3, border_mode=\"same\", input_shape=(64,64,3), activation=\"relu\"))\n",
        "\n",
        "#Max Pooling for layer 1\n",
        "\n",
        "classifier.add(MaxPooling2D(pool_size=(2,2)))"
      ],
      "execution_count": 0,
      "outputs": [
        {
          "output_type": "stream",
          "text": [
            "/usr/local/lib/python3.6/dist-packages/ipykernel_launcher.py:2: UserWarning: Update your `Conv2D` call to the Keras 2 API: `Conv2D(32, (3, 3), input_shape=(64, 64, 3..., activation=\"relu\", padding=\"same\")`\n",
            "  \n"
          ],
          "name": "stderr"
        }
      ]
    },
    {
      "cell_type": "code",
      "metadata": {
        "id": "4wbBRfT4h8t8",
        "colab_type": "code",
        "outputId": "ac988675-d693-4ded-ef56-00ff969e15ce",
        "colab": {
          "base_uri": "https://localhost:8080/",
          "height": 71
        }
      },
      "source": [
        "#Convolution layer 2\n",
        "\n",
        "classifier.add(Convolution2D(32,3,3, border_mode=\"same\", activation=\"relu\"))\n",
        "\n",
        "#Max Pooling for layer 2\n",
        "\n",
        "classifier.add(MaxPooling2D(pool_size=(2,2)))"
      ],
      "execution_count": 0,
      "outputs": [
        {
          "output_type": "stream",
          "text": [
            "/usr/local/lib/python3.6/dist-packages/ipykernel_launcher.py:2: UserWarning: Update your `Conv2D` call to the Keras 2 API: `Conv2D(32, (3, 3), activation=\"relu\", padding=\"same\")`\n",
            "  \n"
          ],
          "name": "stderr"
        }
      ]
    },
    {
      "cell_type": "code",
      "metadata": {
        "id": "tULzzmKpiBVM",
        "colab_type": "code",
        "colab": {}
      },
      "source": [
        "#Flatten\n",
        "\n",
        "classifier.add(Flatten())"
      ],
      "execution_count": 0,
      "outputs": []
    },
    {
      "cell_type": "code",
      "metadata": {
        "id": "C5lBm_0RiEeE",
        "colab_type": "code",
        "outputId": "0ec09247-2175-4265-f83f-e7678a99f82d",
        "colab": {
          "base_uri": "https://localhost:8080/",
          "height": 85
        }
      },
      "source": [
        "#Full Connection of the layers\n",
        "\n",
        "classifier.add(Dense(output_dim=128, activation=\"relu\"))\n",
        "\n",
        "#Output layer\n",
        "\n",
        "classifier.add(Dense(output_dim=1, activation=\"sigmoid\"))"
      ],
      "execution_count": 0,
      "outputs": [
        {
          "output_type": "stream",
          "text": [
            "/usr/local/lib/python3.6/dist-packages/ipykernel_launcher.py:2: UserWarning: Update your `Dense` call to the Keras 2 API: `Dense(activation=\"relu\", units=128)`\n",
            "  \n",
            "/usr/local/lib/python3.6/dist-packages/ipykernel_launcher.py:6: UserWarning: Update your `Dense` call to the Keras 2 API: `Dense(activation=\"sigmoid\", units=1)`\n",
            "  \n"
          ],
          "name": "stderr"
        }
      ]
    },
    {
      "cell_type": "code",
      "metadata": {
        "id": "QwunLNqRiJw8",
        "colab_type": "code",
        "colab": {}
      },
      "source": [
        "#Compiling the CNN\n",
        "\n",
        "classifier.compile(optimizer=\"adam\", loss=\"binary_crossentropy\", metrics=[\"accuracy\"])"
      ],
      "execution_count": 0,
      "outputs": []
    },
    {
      "cell_type": "code",
      "metadata": {
        "id": "tHhZ8fPaiM2M",
        "colab_type": "code",
        "colab": {}
      },
      "source": [
        "#Fitting the images to the CNN\n",
        "\n",
        "from keras.preprocessing.image import ImageDataGenerator"
      ],
      "execution_count": 0,
      "outputs": []
    },
    {
      "cell_type": "code",
      "metadata": {
        "id": "z6JrF-4NiT4L",
        "colab_type": "code",
        "outputId": "d58fa192-db3b-4330-b110-9dd03ee2b696",
        "colab": {
          "base_uri": "https://localhost:8080/",
          "height": 323
        }
      },
      "source": [
        "train_datagen = ImageDataGenerator(\n",
        "        rescale=1./255,\n",
        "        shear_range=0.2,\n",
        "        zoom_range=0.2,\n",
        "        horizontal_flip=True)\n",
        "\n",
        "test_datagen = ImageDataGenerator(rescale=1./255)\n",
        "\n",
        "training_set = train_datagen.flow_from_directory(\n",
        "        '/content/dataset/training_set',\n",
        "        target_size=(64, 64),\n",
        "        batch_size=32,\n",
        "        class_mode='binary')\n",
        "\n",
        "test_set = test_datagen.flow_from_directory(\n",
        "        '/content/dataset/test_set',\n",
        "        target_size=(64, 64),\n",
        "        batch_size=32,\n",
        "        class_mode='binary')\n",
        "\n",
        "classifier.fit_generator(\n",
        "        training_set,\n",
        "        steps_per_epoch=8000,\n",
        "        epochs=15,\n",
        "        validation_data=test_set,\n",
        "        validation_steps=2000)"
      ],
      "execution_count": 14,
      "outputs": [
        {
          "output_type": "stream",
          "text": [
            "Found 8048 images belonging to 2 classes.\n",
            "Found 2000 images belonging to 2 classes.\n",
            "Epoch 1/15\n",
            "8000/8000 [==============================] - 2270s 284ms/step - loss: 0.3676 - accuracy: 0.8273 - val_loss: 0.4008 - val_accuracy: 0.7896\n",
            "Epoch 2/15\n",
            "8000/8000 [==============================] - 2395s 299ms/step - loss: 0.1081 - accuracy: 0.9590 - val_loss: 0.9766 - val_accuracy: 0.8000\n",
            "Epoch 3/15\n",
            "8000/8000 [==============================] - 2331s 291ms/step - loss: 0.0537 - accuracy: 0.9811 - val_loss: 1.8743 - val_accuracy: 0.7868\n",
            "Epoch 4/15\n",
            "8000/8000 [==============================] - 2396s 299ms/step - loss: 0.0381 - accuracy: 0.9872 - val_loss: 0.9651 - val_accuracy: 0.7948\n",
            "Epoch 5/15\n",
            "8000/8000 [==============================] - 2373s 297ms/step - loss: 0.0320 - accuracy: 0.9893 - val_loss: 0.6219 - val_accuracy: 0.7940\n",
            "Epoch 6/15\n",
            "8000/8000 [==============================] - 2286s 286ms/step - loss: 0.0266 - accuracy: 0.9912 - val_loss: 0.9609 - val_accuracy: 0.7844\n",
            "Epoch 7/15\n",
            "8000/8000 [==============================] - 2292s 287ms/step - loss: 0.0221 - accuracy: 0.9925 - val_loss: 1.7262 - val_accuracy: 0.7957\n",
            "Epoch 8/15\n",
            "1778/8000 [=====>........................] - ETA: 26:09 - loss: 0.0202 - accuracy: 0.9934Buffered data was truncated after reaching the output size limit."
          ],
          "name": "stdout"
        }
      ]
    },
    {
      "cell_type": "code",
      "metadata": {
        "id": "edHmVtOCJR1y",
        "colab_type": "code",
        "colab": {}
      },
      "source": [
        "classifier.save('/content/drive/My Drive/Colab Notebooks/Cat or Dog/trained_model.h5')"
      ],
      "execution_count": 0,
      "outputs": []
    }
  ]
}