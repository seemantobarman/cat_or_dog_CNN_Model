{
  "nbformat": 4,
  "nbformat_minor": 0,
  "metadata": {
    "colab": {
      "name": "cat_or_dog_CNN_model.ipynb",
      "provenance": [],
      "collapsed_sections": [],
      "authorship_tag": "ABX9TyPth/apwPCn/i3EvDZYRgvA",
      "include_colab_link": true
    },
    "kernelspec": {
      "name": "python3",
      "display_name": "Python 3"
    },
    "accelerator": "GPU"
  },
  "cells": [
    {
      "cell_type": "markdown",
      "metadata": {
        "id": "view-in-github",
        "colab_type": "text"
      },
      "source": [
        "<a href=\"https://colab.research.google.com/github/seemantobarman/cat_or_dog_CNN_Model/blob/master/cat_or_dog_CNN_model.ipynb\" target=\"_parent\"><img src=\"https://colab.research.google.com/assets/colab-badge.svg\" alt=\"Open In Colab\"/></a>"
      ]
    },
    {
      "cell_type": "code",
      "metadata": {
        "id": "BBsqKcNtYhu4",
        "colab_type": "code",
        "colab": {}
      },
      "source": [
        "from google.colab import drive\n",
        "drive.mount('/content/drive')"
      ],
      "execution_count": 0,
      "outputs": []
    },
    {
      "cell_type": "code",
      "metadata": {
        "id": "9HSgW6RWWTwF",
        "colab_type": "code",
        "colab": {}
      },
      "source": [
        "!mkdir dataset"
      ],
      "execution_count": 0,
      "outputs": []
    },
    {
      "cell_type": "code",
      "metadata": {
        "id": "suxoI0HxWcYT",
        "colab_type": "code",
        "colab": {}
      },
      "source": [
        "!cp -R /content/drive/My\\ Drive/Colab\\ Notebooks/Cat\\ or\\ Dog/dataset/single_prediction /content/dataset"
      ],
      "execution_count": 0,
      "outputs": []
    },
    {
      "cell_type": "code",
      "metadata": {
        "id": "61nclAk6XMyD",
        "colab_type": "code",
        "colab": {}
      },
      "source": [
        "!cp -R /content/drive/My\\ Drive/Colab\\ Notebooks/Cat\\ or\\ Dog/dataset/test_set /content/dataset"
      ],
      "execution_count": 0,
      "outputs": []
    },
    {
      "cell_type": "code",
      "metadata": {
        "id": "rQL1ZzJRZkLo",
        "colab_type": "code",
        "colab": {}
      },
      "source": [
        "!cp -R /content/drive/My\\ Drive/Colab\\ Notebooks/Cat\\ or\\ Dog/dataset/training_set /content/dataset"
      ],
      "execution_count": 0,
      "outputs": []
    },
    {
      "cell_type": "code",
      "metadata": {
        "id": "LIkudPPxhr_P",
        "colab_type": "code",
        "outputId": "6bc1920e-2a09-4a12-db39-63b3117ff34f",
        "colab": {
          "base_uri": "https://localhost:8080/",
          "height": 34
        }
      },
      "source": [
        "#Importing all the packages and libraries\n",
        "\n",
        "from keras.models import Sequential\n",
        "from keras.layers import Dense\n",
        "from keras.layers import Convolution2D\n",
        "from keras.layers import MaxPooling2D\n",
        "from keras.layers import Flatten"
      ],
      "execution_count": 6,
      "outputs": [
        {
          "output_type": "stream",
          "text": [
            "Using TensorFlow backend.\n"
          ],
          "name": "stderr"
        }
      ]
    },
    {
      "cell_type": "code",
      "metadata": {
        "id": "nPc10YCfhyJk",
        "colab_type": "code",
        "colab": {}
      },
      "source": [
        "#Initializing the CNN\n",
        "\n",
        "classifier = Sequential()"
      ],
      "execution_count": 0,
      "outputs": []
    },
    {
      "cell_type": "code",
      "metadata": {
        "id": "KL1ZnA8nh1Z8",
        "colab_type": "code",
        "outputId": "a2f1c363-b858-44a7-ae2b-d756c95715ab",
        "colab": {
          "base_uri": "https://localhost:8080/",
          "height": 71
        }
      },
      "source": [
        "#Convolution layer 1\n",
        "\n",
        "classifier.add(Convolution2D(32,3,3, border_mode=\"same\", input_shape=(64,64,3), activation=\"relu\"))\n",
        "\n",
        "#Max Pooling for layer 1\n",
        "\n",
        "classifier.add(MaxPooling2D(pool_size=(2,2)))"
      ],
      "execution_count": 8,
      "outputs": [
        {
          "output_type": "stream",
          "text": [
            "/usr/local/lib/python3.6/dist-packages/ipykernel_launcher.py:2: UserWarning: Update your `Conv2D` call to the Keras 2 API: `Conv2D(32, (3, 3), input_shape=(64, 64, 3..., activation=\"relu\", padding=\"same\")`\n",
            "  \n"
          ],
          "name": "stderr"
        }
      ]
    },
    {
      "cell_type": "code",
      "metadata": {
        "id": "4wbBRfT4h8t8",
        "colab_type": "code",
        "outputId": "28de1743-827a-4e9f-9322-5bedf23f744f",
        "colab": {
          "base_uri": "https://localhost:8080/",
          "height": 71
        }
      },
      "source": [
        "#Convolution layer 2\n",
        "\n",
        "classifier.add(Convolution2D(32,3,3, border_mode=\"same\", activation=\"relu\"))\n",
        "\n",
        "#Max Pooling for layer 2\n",
        "\n",
        "classifier.add(MaxPooling2D(pool_size=(2,2)))"
      ],
      "execution_count": 9,
      "outputs": [
        {
          "output_type": "stream",
          "text": [
            "/usr/local/lib/python3.6/dist-packages/ipykernel_launcher.py:2: UserWarning: Update your `Conv2D` call to the Keras 2 API: `Conv2D(32, (3, 3), activation=\"relu\", padding=\"same\")`\n",
            "  \n"
          ],
          "name": "stderr"
        }
      ]
    },
    {
      "cell_type": "code",
      "metadata": {
        "id": "tULzzmKpiBVM",
        "colab_type": "code",
        "colab": {}
      },
      "source": [
        "#Flatten\n",
        "\n",
        "classifier.add(Flatten())"
      ],
      "execution_count": 0,
      "outputs": []
    },
    {
      "cell_type": "code",
      "metadata": {
        "id": "C5lBm_0RiEeE",
        "colab_type": "code",
        "outputId": "1e241e2c-527f-4ed9-e027-c95a5c5e999e",
        "colab": {
          "base_uri": "https://localhost:8080/",
          "height": 85
        }
      },
      "source": [
        "#Full Connection of the layers\n",
        "\n",
        "classifier.add(Dense(output_dim=128, activation=\"relu\"))\n",
        "\n",
        "#Output layer\n",
        "\n",
        "classifier.add(Dense(output_dim=1, activation=\"sigmoid\"))"
      ],
      "execution_count": 11,
      "outputs": [
        {
          "output_type": "stream",
          "text": [
            "/usr/local/lib/python3.6/dist-packages/ipykernel_launcher.py:2: UserWarning: Update your `Dense` call to the Keras 2 API: `Dense(activation=\"relu\", units=128)`\n",
            "  \n",
            "/usr/local/lib/python3.6/dist-packages/ipykernel_launcher.py:6: UserWarning: Update your `Dense` call to the Keras 2 API: `Dense(activation=\"sigmoid\", units=1)`\n",
            "  \n"
          ],
          "name": "stderr"
        }
      ]
    },
    {
      "cell_type": "code",
      "metadata": {
        "id": "QwunLNqRiJw8",
        "colab_type": "code",
        "colab": {}
      },
      "source": [
        "#Compiling the CNN\n",
        "\n",
        "classifier.compile(optimizer=\"adam\", loss=\"binary_crossentropy\", metrics=[\"accuracy\"])"
      ],
      "execution_count": 0,
      "outputs": []
    },
    {
      "cell_type": "code",
      "metadata": {
        "id": "tHhZ8fPaiM2M",
        "colab_type": "code",
        "colab": {}
      },
      "source": [
        "#Fitting the images to the CNN\n",
        "\n",
        "from keras.preprocessing.image import ImageDataGenerator"
      ],
      "execution_count": 0,
      "outputs": []
    },
    {
      "cell_type": "code",
      "metadata": {
        "id": "z6JrF-4NiT4L",
        "colab_type": "code",
        "outputId": "42d083ff-d348-4a4a-9b43-a522083f325c",
        "colab": {
          "base_uri": "https://localhost:8080/",
          "height": 561
        }
      },
      "source": [
        "train_datagen = ImageDataGenerator(\n",
        "        rescale=1./255,\n",
        "        shear_range=0.2,\n",
        "        zoom_range=0.2,\n",
        "        horizontal_flip=True)\n",
        "\n",
        "test_datagen = ImageDataGenerator(rescale=1./255)\n",
        "\n",
        "training_set = train_datagen.flow_from_directory(\n",
        "        '/content/dataset/training_set',\n",
        "        target_size=(64, 64),\n",
        "        batch_size=32,\n",
        "        class_mode='binary')\n",
        "\n",
        "test_set = test_datagen.flow_from_directory(\n",
        "        '/content/dataset/test_set',\n",
        "        target_size=(64, 64),\n",
        "        batch_size=32,\n",
        "        class_mode='binary')\n",
        "\n",
        "history = classifier.fit_generator(\n",
        "        training_set,\n",
        "        steps_per_epoch=8000,\n",
        "        epochs=15,\n",
        "        validation_data=test_set,\n",
        "        validation_steps=2000)"
      ],
      "execution_count": 14,
      "outputs": [
        {
          "output_type": "stream",
          "text": [
            "Found 8048 images belonging to 2 classes.\n",
            "Found 2000 images belonging to 2 classes.\n",
            "Epoch 1/15\n",
            "8000/8000 [==============================] - 1201s 150ms/step - loss: 0.3674 - accuracy: 0.8274 - val_loss: 0.7995 - val_accuracy: 0.8035\n",
            "Epoch 2/15\n",
            "8000/8000 [==============================] - 1190s 149ms/step - loss: 0.1328 - accuracy: 0.9483 - val_loss: 0.5255 - val_accuracy: 0.8049\n",
            "Epoch 3/15\n",
            "8000/8000 [==============================] - 1221s 153ms/step - loss: 0.0691 - accuracy: 0.9748 - val_loss: 0.6325 - val_accuracy: 0.8006\n",
            "Epoch 4/15\n",
            "8000/8000 [==============================] - 1226s 153ms/step - loss: 0.0486 - accuracy: 0.9828 - val_loss: 0.2313 - val_accuracy: 0.8065\n",
            "Epoch 5/15\n",
            "8000/8000 [==============================] - 1208s 151ms/step - loss: 0.0370 - accuracy: 0.9870 - val_loss: 1.1956 - val_accuracy: 0.7915\n",
            "Epoch 6/15\n",
            "8000/8000 [==============================] - 1211s 151ms/step - loss: 0.0315 - accuracy: 0.9890 - val_loss: 2.2119 - val_accuracy: 0.7940\n",
            "Epoch 7/15\n",
            "8000/8000 [==============================] - 1203s 150ms/step - loss: 0.0270 - accuracy: 0.9909 - val_loss: 1.2853 - val_accuracy: 0.7989\n",
            "Epoch 8/15\n",
            "8000/8000 [==============================] - 1208s 151ms/step - loss: 0.0227 - accuracy: 0.9923 - val_loss: 1.0694 - val_accuracy: 0.8096\n",
            "Epoch 9/15\n",
            "8000/8000 [==============================] - 1214s 152ms/step - loss: 0.0210 - accuracy: 0.9931 - val_loss: 0.8372 - val_accuracy: 0.8145\n",
            "Epoch 10/15\n",
            "8000/8000 [==============================] - 1212s 151ms/step - loss: 0.0187 - accuracy: 0.9937 - val_loss: 1.1211 - val_accuracy: 0.7987\n",
            "Epoch 11/15\n",
            "8000/8000 [==============================] - 1158s 145ms/step - loss: 0.0167 - accuracy: 0.9945 - val_loss: 0.8000 - val_accuracy: 0.8010\n",
            "Epoch 12/15\n",
            "8000/8000 [==============================] - 1237s 155ms/step - loss: 0.0153 - accuracy: 0.9950 - val_loss: 2.6207 - val_accuracy: 0.7964\n",
            "Epoch 13/15\n",
            "8000/8000 [==============================] - 1248s 156ms/step - loss: 0.0147 - accuracy: 0.9952 - val_loss: 1.1494 - val_accuracy: 0.7911\n",
            "Epoch 14/15\n",
            "8000/8000 [==============================] - 1225s 153ms/step - loss: 0.0132 - accuracy: 0.9956 - val_loss: 1.5991 - val_accuracy: 0.8010\n",
            "Epoch 15/15\n",
            "8000/8000 [==============================] - 1201s 150ms/step - loss: 0.0118 - accuracy: 0.9962 - val_loss: 2.7608 - val_accuracy: 0.8076\n"
          ],
          "name": "stdout"
        }
      ]
    },
    {
      "cell_type": "code",
      "metadata": {
        "id": "edHmVtOCJR1y",
        "colab_type": "code",
        "colab": {}
      },
      "source": [
        "classifier.save('/content/drive/My Drive/Colab Notebooks/Cat or Dog/trained_model_v2.h5')"
      ],
      "execution_count": 0,
      "outputs": []
    },
    {
      "cell_type": "code",
      "metadata": {
        "id": "mbupyXllyL7h",
        "colab_type": "code",
        "outputId": "eda13424-4d43-4767-dfdf-575de4051e55",
        "colab": {
          "base_uri": "https://localhost:8080/",
          "height": 34
        }
      },
      "source": [
        "training_set.class_indices"
      ],
      "execution_count": 16,
      "outputs": [
        {
          "output_type": "execute_result",
          "data": {
            "text/plain": [
              "{'cats': 0, 'dogs': 1}"
            ]
          },
          "metadata": {
            "tags": []
          },
          "execution_count": 16
        }
      ]
    },
    {
      "cell_type": "code",
      "metadata": {
        "id": "-9Bp2n6p-SCk",
        "colab_type": "code",
        "colab": {
          "base_uri": "https://localhost:8080/",
          "height": 34
        },
        "outputId": "d578e989-8e0a-411e-e4bd-47a4a34f9581"
      },
      "source": [
        "print(history.history.keys())"
      ],
      "execution_count": 17,
      "outputs": [
        {
          "output_type": "stream",
          "text": [
            "dict_keys(['val_loss', 'val_accuracy', 'loss', 'accuracy'])\n"
          ],
          "name": "stdout"
        }
      ]
    },
    {
      "cell_type": "code",
      "metadata": {
        "id": "30xQ_8vAYh1E",
        "colab_type": "code",
        "colab": {
          "base_uri": "https://localhost:8080/",
          "height": 295
        },
        "outputId": "6bcb4cf5-619b-4a25-e809-d6d405cc4f06"
      },
      "source": [
        "import matplotlib.pyplot as plt\n",
        "\n",
        "plt.plot(history.history['accuracy'])\n",
        "plt.plot(history.history['val_accuracy'])\n",
        "plt.title('model accuracy')\n",
        "plt.ylabel('accuracy')\n",
        "plt.xlabel('epoch')\n",
        "plt.legend(['train', 'test'], loc='upper left')\n",
        "plt.show()"
      ],
      "execution_count": 19,
      "outputs": [
        {
          "output_type": "display_data",
          "data": {
            "image/png": "[encoded data removed]",
            "text/plain": [
              "<Figure size 432x288 with 1 Axes>"
            ]
          },
          "metadata": {
            "tags": [],
            "needs_background": "light"
          }
        }
      ]
    },
    {
      "cell_type": "code",
      "metadata": {
        "id": "4RxX5xqDY6rC",
        "colab_type": "code",
        "colab": {
          "base_uri": "https://localhost:8080/",
          "height": 295
        },
        "outputId": "300aaaca-97bb-4526-905f-82a1c52ae64c"
      },
      "source": [
        "plt.plot(history.history['loss'])\n",
        "plt.plot(history.history['val_loss'])\n",
        "plt.title('model loss')\n",
        "plt.ylabel('loss')\n",
        "plt.xlabel('epoch')\n",
        "plt.legend(['train', 'test'], loc='upper left')\n",
        "plt.show()"
      ],
      "execution_count": 20,
      "outputs": [
        {
          "output_type": "display_data",
          "data": {
            "image/png": "[encoded data removed]",
            "text/plain": [
              "<Figure size 432x288 with 1 Axes>"
            ]
          },
          "metadata": {
            "tags": [],
            "needs_background": "light"
          }
        }
      ]
    }
  ]
}